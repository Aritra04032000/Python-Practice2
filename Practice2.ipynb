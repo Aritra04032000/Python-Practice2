{
 "cells": [
  {
   "cell_type": "code",
   "execution_count": 1,
   "id": "d0198605",
   "metadata": {},
   "outputs": [],
   "source": [
    "\n",
    " word='abcdefghij'"
   ]
  },
  {
   "cell_type": "code",
   "execution_count": 2,
   "id": "a8e0b18d",
   "metadata": {},
   "outputs": [
    {
     "data": {
      "text/plain": [
       "'abcdefghij'"
      ]
     },
     "execution_count": 2,
     "metadata": {},
     "output_type": "execute_result"
    }
   ],
   "source": [
    "word[:3]+word[3:]"
   ]
  },
  {
   "cell_type": "code",
   "execution_count": 3,
   "id": "da6ed9cb",
   "metadata": {},
   "outputs": [
    {
     "data": {
      "text/plain": [
       "'defghij'"
      ]
     },
     "execution_count": 3,
     "metadata": {},
     "output_type": "execute_result"
    }
   ],
   "source": [
    "word[3:]"
   ]
  },
  {
   "cell_type": "code",
   "execution_count": 4,
   "id": "78a7e11d",
   "metadata": {},
   "outputs": [
    {
     "data": {
      "text/plain": [
       "'abc'"
      ]
     },
     "execution_count": 4,
     "metadata": {},
     "output_type": "execute_result"
    }
   ],
   "source": [
    "word[:3]"
   ]
  },
  {
   "cell_type": "code",
   "execution_count": 5,
   "id": "a7fd1b43",
   "metadata": {},
   "outputs": [],
   "source": [
    "list2=[1,2,1,3,4,2]\n",
    "x=set(list2)"
   ]
  },
  {
   "cell_type": "code",
   "execution_count": 6,
   "id": "4b2d4053",
   "metadata": {},
   "outputs": [
    {
     "name": "stdout",
     "output_type": "stream",
     "text": [
      "{1, 2, 3, 4}\n"
     ]
    }
   ],
   "source": [
    "print(x)"
   ]
  },
  {
   "cell_type": "code",
   "execution_count": 7,
   "id": "4148666c",
   "metadata": {},
   "outputs": [
    {
     "data": {
      "text/plain": [
       "set"
      ]
     },
     "execution_count": 7,
     "metadata": {},
     "output_type": "execute_result"
    }
   ],
   "source": [
    "type(x)"
   ]
  },
  {
   "cell_type": "code",
   "execution_count": 8,
   "id": "94bf719b",
   "metadata": {},
   "outputs": [],
   "source": [
    "y=list(x)"
   ]
  },
  {
   "cell_type": "code",
   "execution_count": 9,
   "id": "4765cadf",
   "metadata": {},
   "outputs": [
    {
     "data": {
      "text/plain": [
       "[1, 2, 3, 4]"
      ]
     },
     "execution_count": 9,
     "metadata": {},
     "output_type": "execute_result"
    }
   ],
   "source": [
    "y"
   ]
  },
  {
   "cell_type": "code",
   "execution_count": 10,
   "id": "3907341c",
   "metadata": {},
   "outputs": [],
   "source": [
    "set1={1,2,3,4,5}"
   ]
  },
  {
   "cell_type": "code",
   "execution_count": 11,
   "id": "803c57f7",
   "metadata": {},
   "outputs": [],
   "source": [
    "x=list(set1)"
   ]
  },
  {
   "cell_type": "code",
   "execution_count": 12,
   "id": "bfe34b72",
   "metadata": {},
   "outputs": [],
   "source": [
    "set2={6,7}"
   ]
  },
  {
   "cell_type": "code",
   "execution_count": 13,
   "id": "2b50236f",
   "metadata": {},
   "outputs": [],
   "source": [
    "set3=set1.union(set2)"
   ]
  },
  {
   "cell_type": "code",
   "execution_count": 14,
   "id": "81184350",
   "metadata": {},
   "outputs": [
    {
     "data": {
      "text/plain": [
       "{1, 2, 3, 4, 5, 6, 7}"
      ]
     },
     "execution_count": 14,
     "metadata": {},
     "output_type": "execute_result"
    }
   ],
   "source": [
    "set3"
   ]
  },
  {
   "cell_type": "code",
   "execution_count": 15,
   "id": "34b05811",
   "metadata": {},
   "outputs": [],
   "source": [
    "set1={5,6,7,8,9}"
   ]
  },
  {
   "cell_type": "code",
   "execution_count": 16,
   "id": "209b8d62",
   "metadata": {},
   "outputs": [],
   "source": [
    "set1.discard(7)"
   ]
  },
  {
   "cell_type": "code",
   "execution_count": 17,
   "id": "8721b170",
   "metadata": {},
   "outputs": [
    {
     "name": "stdout",
     "output_type": "stream",
     "text": [
      "{5, 6, 8, 9}\n"
     ]
    }
   ],
   "source": [
    "print(set1)"
   ]
  },
  {
   "cell_type": "code",
   "execution_count": 18,
   "id": "0b5d6211",
   "metadata": {},
   "outputs": [],
   "source": [
    "setx=set([\"green\",\"blue\"])\n",
    "sety=set([\"blue\",\"Yellow\"])"
   ]
  },
  {
   "cell_type": "code",
   "execution_count": 19,
   "id": "f9011959",
   "metadata": {},
   "outputs": [],
   "source": [
    "z=setx.intersection(sety)"
   ]
  },
  {
   "cell_type": "code",
   "execution_count": 20,
   "id": "af94608d",
   "metadata": {},
   "outputs": [
    {
     "name": "stdout",
     "output_type": "stream",
     "text": [
      "{'blue'}\n"
     ]
    }
   ],
   "source": [
    "print(z)"
   ]
  },
  {
   "cell_type": "code",
   "execution_count": 21,
   "id": "1e73ae15",
   "metadata": {},
   "outputs": [],
   "source": [
    "set5={\"red\",\"blue\",\"green\",\"yellow\",\"purple\"}"
   ]
  },
  {
   "cell_type": "code",
   "execution_count": 22,
   "id": "d6e46b80",
   "metadata": {},
   "outputs": [],
   "source": [
    "x=set5.pop()"
   ]
  },
  {
   "cell_type": "code",
   "execution_count": 23,
   "id": "7b9e491a",
   "metadata": {},
   "outputs": [
    {
     "name": "stdout",
     "output_type": "stream",
     "text": [
      "yellow\n"
     ]
    }
   ],
   "source": [
    "print(x)"
   ]
  },
  {
   "cell_type": "code",
   "execution_count": 24,
   "id": "10b25a67",
   "metadata": {},
   "outputs": [
    {
     "name": "stdout",
     "output_type": "stream",
     "text": [
      "{'purple', 'red', 'blue', 'green'}\n"
     ]
    }
   ],
   "source": [
    "print(set5)"
   ]
  },
  {
   "cell_type": "code",
   "execution_count": 25,
   "id": "55c79ed6",
   "metadata": {},
   "outputs": [],
   "source": [
    "set5.clear()"
   ]
  },
  {
   "cell_type": "code",
   "execution_count": 26,
   "id": "57efff36",
   "metadata": {},
   "outputs": [
    {
     "name": "stdout",
     "output_type": "stream",
     "text": [
      "set()\n"
     ]
    }
   ],
   "source": [
    "print(set5)"
   ]
  },
  {
   "cell_type": "code",
   "execution_count": 27,
   "id": "c460fa86",
   "metadata": {},
   "outputs": [],
   "source": [
    "dict1={\n",
    "    0:10,\n",
    "    1:20\n",
    "    }\n",
    "x=dict1.values()"
   ]
  },
  {
   "cell_type": "code",
   "execution_count": 28,
   "id": "2478b16f",
   "metadata": {},
   "outputs": [
    {
     "name": "stdout",
     "output_type": "stream",
     "text": [
      "dict_values([10, 20])\n"
     ]
    }
   ],
   "source": [
    "print(x)"
   ]
  },
  {
   "cell_type": "code",
   "execution_count": 30,
   "id": "06143812",
   "metadata": {},
   "outputs": [],
   "source": [
    "dict1[2]=30"
   ]
  },
  {
   "cell_type": "code",
   "execution_count": 31,
   "id": "7904c1e1",
   "metadata": {},
   "outputs": [
    {
     "name": "stdout",
     "output_type": "stream",
     "text": [
      "dict_values([10, 20, 30])\n"
     ]
    }
   ],
   "source": [
    "print(x)"
   ]
  },
  {
   "cell_type": "code",
   "execution_count": 32,
   "id": "f8316162",
   "metadata": {},
   "outputs": [],
   "source": [
    "y=dict1.items()"
   ]
  },
  {
   "cell_type": "code",
   "execution_count": 33,
   "id": "727d0834",
   "metadata": {},
   "outputs": [
    {
     "name": "stdout",
     "output_type": "stream",
     "text": [
      "dict_items([(0, 10), (1, 20), (2, 30)])\n"
     ]
    }
   ],
   "source": [
    "print(y)"
   ]
  },
  {
   "cell_type": "code",
   "execution_count": 34,
   "id": "35b92066",
   "metadata": {},
   "outputs": [
    {
     "data": {
      "text/plain": [
       "{0: 10, 1: 20, 2: 30}"
      ]
     },
     "execution_count": 34,
     "metadata": {},
     "output_type": "execute_result"
    }
   ],
   "source": [
    "dict1"
   ]
  },
  {
   "cell_type": "code",
   "execution_count": 35,
   "id": "59748924",
   "metadata": {},
   "outputs": [],
   "source": [
    "dic1={1:10,2:20}"
   ]
  },
  {
   "cell_type": "code",
   "execution_count": 36,
   "id": "d30638da",
   "metadata": {},
   "outputs": [],
   "source": [
    "dic2={3:30,4:40}"
   ]
  },
  {
   "cell_type": "code",
   "execution_count": 37,
   "id": "e8973ee4",
   "metadata": {},
   "outputs": [],
   "source": [
    "dic3={5:50,6:60}"
   ]
  },
  {
   "cell_type": "code",
   "execution_count": 38,
   "id": "c1f73801",
   "metadata": {},
   "outputs": [],
   "source": [
    "dic10={\n",
    "    \"dic1\":{\n",
    "        1:10,\n",
    "        2:20\n",
    "    },\n",
    "    \"dic2\":{\n",
    "        3:30,\n",
    "        4:40\n",
    "    },\n",
    "    \"dic3\":{\n",
    "        5:50,\n",
    "        6:60\n",
    "    }\n",
    "}"
   ]
  },
  {
   "cell_type": "code",
   "execution_count": 39,
   "id": "7cd8068e",
   "metadata": {},
   "outputs": [
    {
     "data": {
      "text/plain": [
       "{'dic1': {1: 10, 2: 20}, 'dic2': {3: 30, 4: 40}, 'dic3': {5: 50, 6: 60}}"
      ]
     },
     "execution_count": 39,
     "metadata": {},
     "output_type": "execute_result"
    }
   ],
   "source": [
    "dic10"
   ]
  },
  {
   "cell_type": "code",
   "execution_count": 40,
   "id": "0980e2c6",
   "metadata": {},
   "outputs": [],
   "source": [
    "dic5={\n",
    "    \"dic1\":dic1,\n",
    "    \"dic2\":dic2,\n",
    "    \"dic3\":dic3\n",
    "}"
   ]
  },
  {
   "cell_type": "code",
   "execution_count": 41,
   "id": "a4252d9e",
   "metadata": {},
   "outputs": [
    {
     "data": {
      "text/plain": [
       "{'dic1': {1: 10, 2: 20}, 'dic2': {3: 30, 4: 40}, 'dic3': {5: 50, 6: 60}}"
      ]
     },
     "execution_count": 41,
     "metadata": {},
     "output_type": "execute_result"
    }
   ],
   "source": [
    "dic5"
   ]
  },
  {
   "cell_type": "code",
   "execution_count": null,
   "id": "4b8d7113",
   "metadata": {},
   "outputs": [],
   "source": [
    "  \n",
    "    "
   ]
  }
 ],
 "metadata": {
  "kernelspec": {
   "display_name": "Python 3 (ipykernel)",
   "language": "python",
   "name": "python3"
  },
  "language_info": {
   "codemirror_mode": {
    "name": "ipython",
    "version": 3
   },
   "file_extension": ".py",
   "mimetype": "text/x-python",
   "name": "python",
   "nbconvert_exporter": "python",
   "pygments_lexer": "ipython3",
   "version": "3.11.5"
  }
 },
 "nbformat": 4,
 "nbformat_minor": 5
}
